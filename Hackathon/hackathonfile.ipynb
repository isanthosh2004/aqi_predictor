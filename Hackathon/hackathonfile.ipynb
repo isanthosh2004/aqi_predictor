{
 "cells": [
  {
   "cell_type": "code",
   "execution_count": 80,
   "id": "91f7b6e6",
   "metadata": {},
   "outputs": [],
   "source": [
    "import pandas as pd\n",
    "from sklearn.model_selection import train_test_split\n",
    "from sklearn.ensemble import RandomForestRegressor\n",
    "from sklearn.metrics import mean_squared_error\n",
    "from math import sqrt\n",
    "from sklearn.impute import SimpleImputer"
   ]
  },
  {
   "cell_type": "code",
   "execution_count": null,
   "id": "f3f1e5c0",
   "metadata": {},
   "outputs": [],
   "source": []
  },
  {
   "cell_type": "code",
   "execution_count": 81,
   "id": "b7fbf0ab",
   "metadata": {},
   "outputs": [],
   "source": [
    "data = pd.read_csv(\"C:/Users/santh/Downloads/Hackathon/dataset.csv\")\n"
   ]
  },
  {
   "cell_type": "code",
   "execution_count": 82,
   "id": "26301505",
   "metadata": {},
   "outputs": [],
   "source": [
    "try_formats = [\"%d-%m-%Y %H:%M\", \"ISO8601\", \"mixed\"]\n",
    "for fmt in try_formats:\n",
    "    try:\n",
    "        data['Datetime'] = pd.to_datetime(data['Datetime'], format=fmt, errors='raise')\n",
    "        break\n",
    "    except ValueError:\n",
    "        pass\n",
    "\n",
    "if 'Datetime' not in data:\n",
    "    raise ValueError(\"Failed to parse datetime column.\")"
   ]
  },
  {
   "cell_type": "code",
   "execution_count": 88,
   "id": "7feb788d",
   "metadata": {},
   "outputs": [],
   "source": [
    "imputer = SimpleImputer(strategy='mean')\n",
    "\n",
    "# Fit and transform the imputer on X_train\n",
    "X_train_imputed = imputer.fit_transform(X_train)\n",
    "\n",
    "# Transform X_test using the same imputer\n",
    "X_test_imputed = imputer.transform(X_test)"
   ]
  },
  {
   "cell_type": "code",
   "execution_count": null,
   "id": "442d707a",
   "metadata": {},
   "outputs": [],
   "source": []
  },
  {
   "cell_type": "code",
   "execution_count": 89,
   "id": "98f1afaa",
   "metadata": {
    "scrolled": false
   },
   "outputs": [],
   "source": [
    "def predict_aqi(input_datetime):\n",
    "    # Assuming datetime is provided as string in \"YYYY-MM-DD HH:MM:SS\" format\n",
    "    past_data = data[(data['Datetime'] >= (datetime - pd.DateOffset(years=2))) & (data['Datetime'] <= datetime)]\n",
    "    avg_aqi = past_data['AQI'].mean()\n",
    "    rounded_avg_aqi = round(avg_aqi)\n",
    "    predicted_aqi = int(rounded_avg_aqi)\n",
    "    return predicted_aqi"
   ]
  },
  {
   "cell_type": "code",
   "execution_count": 90,
   "id": "528e6404",
   "metadata": {},
   "outputs": [],
   "source": [
    "def advise_action(predicted_aqi):\n",
    "    if predicted_aqi >= 4:\n",
    "        print(\"Severe AQI level detected. Advise the factory to cut down smoke emission.\")\n",
    "        print(\"Google Maps users and cab aggregators should promote the use of public transport.\")\n",
    "    elif predicted_aqi >= 3:\n",
    "        print(\"Very Poor AQI level detected. Google Maps users and cab aggregators should promote the use of public transport.\")\n",
    "    elif predicted_aqi >= 2:\n",
    "        print(\"Poor AQI level detected. Google Maps users and cab aggregators should promote the use of public transport.\")\n",
    "    elif predicted_aqi >= 1:\n",
    "        print(\"Moderate AQI level detected. No specific actions advised.\")\n",
    "    else:\n",
    "        print(\"AQI level is within acceptable range. No specific actions advised.\")"
   ]
  },
  {
   "cell_type": "code",
   "execution_count": null,
   "id": "959c2014",
   "metadata": {},
   "outputs": [],
   "source": []
  }
 ],
 "metadata": {
  "kernelspec": {
   "display_name": "Python 3 (ipykernel)",
   "language": "python",
   "name": "python3"
  },
  "language_info": {
   "codemirror_mode": {
    "name": "ipython",
    "version": 3
   },
   "file_extension": ".py",
   "mimetype": "text/x-python",
   "name": "python",
   "nbconvert_exporter": "python",
   "pygments_lexer": "ipython3",
   "version": "3.11.5"
  }
 },
 "nbformat": 4,
 "nbformat_minor": 5
}
